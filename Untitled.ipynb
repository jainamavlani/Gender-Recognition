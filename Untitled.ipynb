{
 "cells": [
  {
   "cell_type": "code",
   "execution_count": 1,
   "metadata": {},
   "outputs": [
    {
     "name": "stdout",
     "output_type": "stream",
     "text": [
      "Requirement already satisfied: cvlib in c:\\users\\91982\\appdata\\local\\programs\\python\\python38\\lib\\site-packages (0.2.5)\n",
      "Requirement already satisfied: imageio in c:\\users\\91982\\appdata\\local\\programs\\python\\python38\\lib\\site-packages (from cvlib) (2.9.0)\n",
      "Requirement already satisfied: progressbar in c:\\users\\91982\\appdata\\local\\programs\\python\\python38\\lib\\site-packages (from cvlib) (2.5)Note: you may need to restart the kernel to use updated packages.\n"
     ]
    },
    {
     "name": "stderr",
     "output_type": "stream",
     "text": [
      "WARNING: You are using pip version 20.2.4; however, version 21.1.3 is available.\n",
      "You should consider upgrading via the 'c:\\users\\91982\\appdata\\local\\programs\\python\\python38\\python.exe -m pip install --upgrade pip' command.\n"
     ]
    },
    {
     "name": "stdout",
     "output_type": "stream",
     "text": [
      "\n",
      "Requirement already satisfied: numpy in c:\\users\\91982\\appdata\\local\\programs\\python\\python38\\lib\\site-packages (from cvlib) (1.18.5)\n",
      "Requirement already satisfied: pillow in c:\\users\\91982\\appdata\\local\\programs\\python\\python38\\lib\\site-packages (from cvlib) (7.2.0)\n",
      "Requirement already satisfied: imutils in c:\\users\\91982\\appdata\\local\\programs\\python\\python38\\lib\\site-packages (from cvlib) (0.5.3)\n",
      "Requirement already satisfied: requests in c:\\users\\91982\\appdata\\local\\programs\\python\\python38\\lib\\site-packages (from cvlib) (2.24.0)\n",
      "Requirement already satisfied: idna<3,>=2.5 in c:\\users\\91982\\appdata\\local\\programs\\python\\python38\\lib\\site-packages (from requests->cvlib) (2.10)\n",
      "Requirement already satisfied: certifi>=2017.4.17 in c:\\users\\91982\\appdata\\local\\programs\\python\\python38\\lib\\site-packages (from requests->cvlib) (2020.6.20)\n",
      "Requirement already satisfied: chardet<4,>=3.0.2 in c:\\users\\91982\\appdata\\local\\programs\\python\\python38\\lib\\site-packages (from requests->cvlib) (3.0.4)\n",
      "Requirement already satisfied: urllib3!=1.25.0,!=1.25.1,<1.26,>=1.21.1 in c:\\users\\91982\\appdata\\local\\programs\\python\\python38\\lib\\site-packages (from requests->cvlib) (1.25.9)\n"
     ]
    }
   ],
   "source": [
    "pip install cvlib\n"
   ]
  },
  {
   "cell_type": "code",
   "execution_count": 2,
   "metadata": {},
   "outputs": [],
   "source": [
    "\n",
    "from tensorflow.keras.preprocessing.image import img_to_array\n",
    "from tensorflow.keras.models import load_model\n",
    "import numpy as np\n",
    "import cv2\n",
    "import os\n",
    "import cvlib as cv\n"
   ]
  },
  {
   "cell_type": "code",
   "execution_count": 3,
   "metadata": {},
   "outputs": [],
   "source": [
    "model = load_model('gender_detection.model')"
   ]
  },
  {
   "cell_type": "code",
   "execution_count": 4,
   "metadata": {},
   "outputs": [],
   "source": [
    "webcam = cv2.VideoCapture(0)\n",
    "classes = ['man','woman']\n"
   ]
  },
  {
   "cell_type": "code",
   "execution_count": 5,
   "metadata": {},
   "outputs": [
    {
     "name": "stdout",
     "output_type": "stream",
     "text": [
      "[0.11932427 0.8922554 ]\n",
      "[0.20348534 0.984339  ]\n",
      "[8.8685483e-06 9.9998283e-01]\n",
      "[0.9503244  0.04208362]\n",
      "[9.9999130e-01 1.0011344e-06]\n",
      "[0.8819058  0.06661242]\n",
      "[0.01756436 0.9813882 ]\n",
      "[0.15207171 0.8309418 ]\n",
      "[5.7753536e-05 9.9992901e-01]\n",
      "[0.98754466 0.01161402]\n",
      "[0.42286584 0.53016233]\n",
      "[0.20457739 0.82965636]\n",
      "[0.61892116 0.43434894]\n",
      "[9.9954963e-01 2.1472573e-04]\n",
      "[9.9954855e-01 9.6536511e-05]\n",
      "[9.9972886e-01 3.4694960e-05]\n",
      "[0.93205225 0.00981873]\n",
      "[9.9810123e-01 5.4898858e-04]\n",
      "[9.9987888e-01 3.8035832e-05]\n",
      "[0.9890409 0.0076637]\n",
      "[0.9212524  0.08133328]\n",
      "[0.8716862 0.1171169]\n",
      "[0.8686353  0.12820542]\n",
      "[0.98825383 0.01196283]\n",
      "[0.99653554 0.00387433]\n",
      "[9.9982166e-01 1.4701486e-04]\n",
      "[9.997295e-01 2.924204e-04]\n",
      "[0.9818429  0.01982003]\n",
      "[0.9426851  0.06422016]\n",
      "[0.9113054  0.08961949]\n",
      "[0.8274696  0.17360148]\n",
      "[0.8563919  0.15140504]\n",
      "[0.9403242  0.06444031]\n",
      "[0.5573046  0.43884647]\n",
      "[0.5930267  0.40887207]\n",
      "[0.5000264  0.50559485]\n",
      "[0.80120146 0.20823953]\n",
      "[0.527641 0.48979 ]\n",
      "[0.64284205 0.37346953]\n",
      "[0.4459302 0.5601855]\n",
      "[0.52785856 0.47965324]\n",
      "[0.7100807 0.2955404]\n",
      "[0.6368179  0.36416674]\n",
      "[0.54967856 0.44796538]\n",
      "[0.9002456  0.10168859]\n",
      "[0.9053288  0.10879862]\n",
      "[0.9152198  0.09439015]\n",
      "[0.9235265  0.08978054]\n",
      "[0.8732705  0.14356983]\n",
      "[0.8799432  0.12178993]\n",
      "[0.87162447 0.13232413]\n",
      "[0.62392116 0.3898211 ]\n",
      "[0.7882817  0.10688981]\n",
      "[9.9966908e-01 3.3056736e-04]\n",
      "[9.9914330e-01 9.0539455e-04]\n",
      "[9.9937034e-01 6.4715743e-04]\n",
      "[0.9972386  0.00283331]\n",
      "[0.99848676 0.00152317]\n",
      "[0.99364895 0.00603431]\n",
      "[0.9974484  0.00273755]\n",
      "[0.96410567 0.03075007]\n",
      "[0.9813323  0.01769021]\n",
      "[0.48665    0.37463754]\n",
      "[0.8287996  0.14504334]\n",
      "[0.9561285  0.03783661]\n",
      "[0.9737465  0.02036825]\n",
      "[0.98798156 0.01444754]\n"
     ]
    }
   ],
   "source": [
    "while webcam.isOpened():\n",
    "\n",
    "    # read frame from webcam \n",
    "    status, frame = webcam.read()\n",
    "\n",
    "    # apply face detection\n",
    "    face, confidence = cv.detect_face(frame)\n",
    "\n",
    "\n",
    "    # loop through detected faces\n",
    "    for idx, f in enumerate(face):\n",
    "\n",
    "        # get corner points of face rectangle        \n",
    "        (startX, startY) = f[0], f[1]\n",
    "        (endX, endY) = f[2], f[3]\n",
    "\n",
    "        # draw rectangle over face\n",
    "        cv2.rectangle(frame, (startX,startY), (endX,endY), (0,255,0), 2)\n",
    "\n",
    "        # crop the detected face region\n",
    "        face_crop = np.copy(frame[startY:endY,startX:endX])\n",
    "\n",
    "        if (face_crop.shape[0]) < 10 or (face_crop.shape[1]) < 10:\n",
    "            continue\n",
    "\n",
    "        # preprocessing for gender detection model\n",
    "        face_crop = cv2.resize(face_crop, (96,96))\n",
    "        face_crop = face_crop.astype(\"float\") / 255.0\n",
    "        face_crop = img_to_array(face_crop)\n",
    "        face_crop = np.expand_dims(face_crop, axis=0)\n",
    "\n",
    "        # apply gender detection on face\n",
    "        conf = model.predict(face_crop)[0] # model.predict return a 2D matrix, ex: [[9.9993384e-01 7.4850512e-05]]\n",
    "        print(conf)\n",
    "        # get label with max accuracy\n",
    "        idx = np.argmax(conf)\n",
    "        label = classes[idx]\n",
    "\n",
    "        label = \"{}: {:.2f}%\".format(label, conf[idx] * 100)\n",
    "\n",
    "        Y = startY - 10 if startY - 10 > 10 else startY + 10\n",
    "\n",
    "        # write label and confidence above face rectangle\n",
    "        cv2.putText(frame, label, (startX, Y),  cv2.FONT_HERSHEY_SIMPLEX,\n",
    "                    0.7, (0, 255, 0), 2)\n",
    "\n",
    "    # display output\n",
    "    cv2.imshow(\"gender detection\", frame)\n",
    "\n",
    "    # press \"Q\" to stop\n",
    "    if cv2.waitKey(1) & 0xFF == ord('q'):\n",
    "        break\n",
    "\n",
    "        \n",
    "webcam.release()\n",
    "cv2.destroyAllWindows()\n",
    "    "
   ]
  },
  {
   "cell_type": "code",
   "execution_count": null,
   "metadata": {},
   "outputs": [],
   "source": []
  },
  {
   "cell_type": "code",
   "execution_count": null,
   "metadata": {},
   "outputs": [],
   "source": []
  }
 ],
 "metadata": {
  "kernelspec": {
   "display_name": "Python 3",
   "language": "python",
   "name": "python3"
  },
  "language_info": {
   "codemirror_mode": {
    "name": "ipython",
    "version": 3
   },
   "file_extension": ".py",
   "mimetype": "text/x-python",
   "name": "python",
   "nbconvert_exporter": "python",
   "pygments_lexer": "ipython3",
   "version": "3.8.1"
  }
 },
 "nbformat": 4,
 "nbformat_minor": 4
}
